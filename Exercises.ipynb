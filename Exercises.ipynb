{
 "cells": [
  {
   "cell_type": "code",
   "execution_count": 2,
   "metadata": {},
   "outputs": [],
   "source": [
    "import re"
   ]
  },
  {
   "cell_type": "markdown",
   "metadata": {},
   "source": [
    "### Exercise 1"
   ]
  },
  {
   "cell_type": "markdown",
   "metadata": {},
   "source": [
    "Write a function that takes in a tweet and returns a list of the hashtags in the tweet<br>\n",
    "Ex. 1<br>\n",
    "tweet = \"Python is the best #Python #Programming #CodingTemple\"<br>\n",
    "Expected Output: [\"#Python\", \"#Programming\", \"#CodingTemple\"]<br>\n",
    "\n",
    "Ex. 2<br>\n",
    "tweet = \"I love my life! #blessed\"<br>\n",
    "Expected Output: [\"#bleeed\"]<br>\n",
    "\n",
    "Ex. 3<br>\n",
    "tweet = \"Bear Down\"<br>\n",
    "Expected Output: []<br>\n"
   ]
  },
  {
   "cell_type": "code",
   "execution_count": 12,
   "metadata": {},
   "outputs": [
    {
     "name": "stdout",
     "output_type": "stream",
     "text": [
      "['#Python', '#Programming', '#CodingTemple']\n",
      "['#blessed']\n",
      "[]\n"
     ]
    }
   ],
   "source": [
    "# Expected Output: [\"#Python\", \"#Programming\", \"#CodingTemple\"]\n",
    "\n",
    "tweet = \"Python is the best #Python #Programming #CodingTemple\"\n",
    "# hashtags = re.findall(r'#\\w+', tweet)\n",
    "\n",
    "\n",
    "tweet2 = \"I love my life! #blessed\"\n",
    "# hashtags2 = re.findall(r'#\\w+', tweet2)\n",
    "\n",
    "tweet3 = \"Bear Down\"\n",
    "# hashtags3 = re.findall(r'#\\w+', tweet3)\n",
    "\n",
    "\n",
    "# print(hashtags)\n",
    "# print(hashtags2)\n",
    "# print(hashtags3)\n",
    "\n",
    "# oops\n",
    "\n",
    "def find_hashtags (tweet):\n",
    "    hashtags = re.findall(r'#\\w+', tweet)\n",
    "    return hashtags\n",
    "\n",
    "print(find_hashtags(tweet))\n",
    "print(find_hashtags(tweet2))\n",
    "print(find_hashtags(tweet3))\n",
    "\n",
    "\n",
    "\n",
    "\n",
    "\n"
   ]
  },
  {
   "cell_type": "markdown",
   "metadata": {},
   "source": [
    "### Exercise 2"
   ]
  },
  {
   "cell_type": "markdown",
   "metadata": {},
   "source": [
    "Develop a regular expression to validate a username. The username should start with a letter, followed by any combination of letters, numbers, underscores, and dots. It should be between 3 and 16 characters long<br>\n",
    "Ex. 1 <br>\n",
    "username = \"CodingTemple123\"<br>\n",
    "Expected Output: True<br>\n",
    "\n",
    "Ex. 2 <br>\n",
    "username = \"1love\"<br>\n",
    "Expected Output: False<br>\n",
    "\n",
    "Ex. 3 <br>\n",
    "username = \"CT\"<br>\n",
    "Expected Output: False<br>\n",
    "\n",
    "Ex. 4 <br>\n",
    "username = \"This_is_a_username_that_I_would_like_to_use\"<br>\n",
    "Expected Output: False<br>\n",
    "\n",
    "Ex. 5 <br>\n",
    "username = \"brian_ct123\"<br>\n",
    "Expected Output: True<br>"
   ]
  },
  {
   "cell_type": "code",
   "execution_count": 24,
   "metadata": {
    "scrolled": true
   },
   "outputs": [
    {
     "name": "stdout",
     "output_type": "stream",
     "text": [
      "True\n",
      "False\n",
      "False\n",
      "False\n",
      "True\n"
     ]
    }
   ],
   "source": [
    "# Develop a regular expression to validate a username. The username should start with a letter, followed by any combination of letters, numbers, underscores, and dots. It should be between 3 and 16 characters long\n",
    "\n",
    "\n",
    "\n",
    "username = \"CodingTemple123\"\n",
    "username2 = \"1love\"\n",
    "username3 = \"CT\"\n",
    "username4 = \"This_is_a_username_that_I_would_like_to_use\"\n",
    "username5 = \"brian_ct123\"\n",
    "\n",
    "\n",
    "\n",
    "def outcome (username):\n",
    "    patern = re.compile(r\"^[A-Za-z][A-Za-z0-9_.]{2,15}$\")\n",
    "    if patern.match(username):\n",
    "        return True\n",
    "    else:\n",
    "        return False\n",
    "\n",
    "print(outcome(username))\n",
    "print(outcome(username2))\n",
    "print(outcome(username3))\n",
    "print(outcome(username4))\n",
    "print(outcome(username5))"
   ]
  },
  {
   "cell_type": "markdown",
   "metadata": {},
   "source": [
    "### Exercise 3"
   ]
  },
  {
   "cell_type": "markdown",
   "metadata": {},
   "source": [
    "Using the Python `open()` function, read in the `example.txt` file (attached in Google Classroom, make sure it is in the same folder as this notebook). Create a pattern that will find all of the dates in the text. Dates are in the format of YYYY-MM-DD. The pattern should have groups for year, month, and day. Using the `.finditer()` method, iterate over the dates and print in format of month/day/year<br>"
   ]
  },
  {
   "cell_type": "code",
   "execution_count": null,
   "metadata": {},
   "outputs": [],
   "source": []
  },
  {
   "cell_type": "markdown",
   "metadata": {},
   "source": [
    "Output:\n",
    "```\n",
    "05/15/1990\n",
    "09/20/2015\n",
    "12/03/1985\n",
    "06/18/2010\n",
    "11/30/2002\n",
    "08/10/1978\n",
    "04/25/1992\n",
    "07/07/2019\n",
    "02/12/1980\n",
    "03/22/2005\n",
    "```"
   ]
  },
  {
   "cell_type": "code",
   "execution_count": 27,
   "metadata": {},
   "outputs": [
    {
     "data": {
      "text/plain": [
       "\"Daniel Martinez was born on 1990-05-15. He later married Elizabeth Anderson on 2015-09-20.\\n\\nAlice Johnson's birthdate is 1985-12-03, and she got her degree on 2010-06-18.\\n\\nMichael Brown's graduation date is 2002-11-30. He celebrated his birthday on 1978-08-10.\\n\\nEmily Wilson was born on 1992-04-25. She completed her Ph.D. on 2019-07-07.\\n\\nSarah Clark's birthdate is 1980-02-12. She joined the company on 2005-03-22.\""
      ]
     },
     "execution_count": 27,
     "metadata": {},
     "output_type": "execute_result"
    }
   ],
   "source": [
    "with open(\"example.txt\") as new_file:\n",
    "    date_list = new_file.read()\n",
    "\n",
    "date_list"
   ]
  },
  {
   "cell_type": "code",
   "execution_count": 28,
   "metadata": {},
   "outputs": [],
   "source": [
    "def new_format():\n",
    "    data_pattern = re.compile(r\"(\\d{2})-(\\d{2})-(\\d{4})\")\n",
    "\n",
    "    \n",
    "\n"
   ]
  },
  {
   "cell_type": "code",
   "execution_count": null,
   "metadata": {},
   "outputs": [],
   "source": []
  }
 ],
 "metadata": {
  "kernelspec": {
   "display_name": "Python 3 (ipykernel)",
   "language": "python",
   "name": "python3"
  },
  "language_info": {
   "codemirror_mode": {
    "name": "ipython",
    "version": 3
   },
   "file_extension": ".py",
   "mimetype": "text/x-python",
   "name": "python",
   "nbconvert_exporter": "python",
   "pygments_lexer": "ipython3",
   "version": "3.11.5"
  }
 },
 "nbformat": 4,
 "nbformat_minor": 4
}
